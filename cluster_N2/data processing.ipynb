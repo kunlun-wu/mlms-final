{
 "cells": [
  {
   "cell_type": "code",
   "execution_count": null,
   "id": "cc08c016",
   "metadata": {},
   "outputs": [],
   "source": [
    "#Feature Interaction\n",
    "import pandas as pd\n",
    "from sklearn.preprocessing import PolynomialFeatures\n",
    "\n",
    "train_df = pd.read_excel('Data-files/homonuclear-159-15features.xlsx')\n",
    "X_train = train_df.iloc[:, 2:]\n",
    "\n",
    "poly = PolynomialFeatures(degree=2, interaction_only=True, include_bias=False)\n",
    "X_train_poly = poly.fit_transform(X_train)\n",
    "\n",
    "poly_feature_train = poly.get_feature_names_out(X_train.columns)\n",
    "\n",
    "X_train_poly_df = pd.concat([train_df.iloc[:, :2], pd.DataFrame(X_train_poly, columns=poly_feature_train)], axis=1)\n",
    "output_train_file = 'Data-files/homonuclear-159-15features-degree2.xlsx'\n",
    "X_train_poly_df.to_excel(output_train_file, index=False)"
   ]
  },
  {
   "cell_type": "code",
   "execution_count": null,
   "id": "2e55cb62",
   "metadata": {},
   "outputs": [],
   "source": [
    "#Pairwise\n",
    "import numpy as np\n",
    "from itertools import combinations\n",
    "\n",
    "input_file = 'Data-files/homonuclear-159-15features-degree2.xlsx' \n",
    "output_file = 'Data-files/homonuclear-159-15features-degree2-pairwise.xlsx'   \n",
    "\n",
    "data = pd.read_excel(input_file)\n",
    "sample_ids = data.iloc[:, 0] \n",
    "targets = data.iloc[:, 1]    \n",
    "features = data.iloc[:, 2:]  \n",
    "\n",
    "pairwise_samples = []\n",
    "pairwise_targets = []\n",
    "pairwise_ids = []\n",
    "\n",
    "for (idx1, idx2) in combinations(range(len(data)), 2):\n",
    "    sample1_id = sample_ids[idx1]\n",
    "    sample2_id = sample_ids[idx2]\n",
    "    pair_id = f\"{sample1_id} vs {sample2_id}\"\n",
    "    \n",
    "    feature_diff = features.iloc[idx1].values - features.iloc[idx2].values\n",
    "    target_diff = targets.iloc[idx1] - targets.iloc[idx2]\n",
    "    \n",
    "    pairwise_samples.append(feature_diff)\n",
    "    pairwise_targets.append(target_diff)\n",
    "    pairwise_ids.append(pair_id)\n",
    "\n",
    "pairwise_features_df = pd.DataFrame(pairwise_samples, columns=features.columns)\n",
    "pairwise_targets_df = pd.DataFrame(pairwise_targets, columns=['lg(k1) Difference'])\n",
    "pairwise_ids_df = pd.DataFrame(pairwise_ids, columns=['Cluster Pair'])\n",
    "result_df = pd.concat([pairwise_ids_df, pairwise_targets_df, pairwise_features_df], axis=1)\n",
    "result_df.to_excel(output_file, index=False)                                                                          "
   ]
  }
 ],
 "metadata": {
  "kernelspec": {
   "display_name": "ML-311",
   "language": "python",
   "name": "python3"
  },
  "language_info": {
   "codemirror_mode": {
    "name": "ipython",
    "version": 3
   },
   "file_extension": ".py",
   "mimetype": "text/x-python",
   "name": "python",
   "nbconvert_exporter": "python",
   "pygments_lexer": "ipython3",
   "version": "3.11.9"
  },
  "vscode": {
   "interpreter": {
    "hash": "e1c308bfca458f9df215d68744e2ecb63c676d0e0afd346427bcc8e46079976d"
   }
  }
 },
 "nbformat": 4,
 "nbformat_minor": 5
}
